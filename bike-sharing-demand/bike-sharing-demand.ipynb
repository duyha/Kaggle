{
 "cells": [
  {
   "cell_type": "code",
   "execution_count": 1,
   "metadata": {
    "collapsed": false
   },
   "outputs": [
    {
     "ename": "ImportError",
     "evalue": "No module named xgboost",
     "output_type": "error",
     "traceback": [
      "\u001b[0;31m---------------------------------------------------------------------------\u001b[0m",
      "\u001b[0;31mImportError\u001b[0m                               Traceback (most recent call last)",
      "\u001b[0;32m<ipython-input-1-c13280285e61>\u001b[0m in \u001b[0;36m<module>\u001b[0;34m()\u001b[0m\n\u001b[1;32m      8\u001b[0m \u001b[0;32mimport\u001b[0m \u001b[0msklearn\u001b[0m\u001b[0;34m.\u001b[0m\u001b[0mpreprocessing\u001b[0m\u001b[0;34m\u001b[0m\u001b[0m\n\u001b[1;32m      9\u001b[0m \u001b[0;32mimport\u001b[0m \u001b[0msklearn\u001b[0m\u001b[0;34m.\u001b[0m\u001b[0mcross_validation\u001b[0m\u001b[0;34m\u001b[0m\u001b[0m\n\u001b[0;32m---> 10\u001b[0;31m \u001b[0;32mimport\u001b[0m \u001b[0mxgboost\u001b[0m \u001b[0;32mas\u001b[0m \u001b[0mxgb\u001b[0m\u001b[0;34m\u001b[0m\u001b[0m\n\u001b[0m\u001b[1;32m     11\u001b[0m \u001b[0;32mimport\u001b[0m \u001b[0mmatplotlib\u001b[0m\u001b[0;34m\u001b[0m\u001b[0m\n\u001b[1;32m     12\u001b[0m \u001b[0;32mfrom\u001b[0m \u001b[0msklearn\u001b[0m\u001b[0;34m.\u001b[0m\u001b[0mmetrics\u001b[0m \u001b[0;32mimport\u001b[0m \u001b[0mmean_squared_error\u001b[0m\u001b[0;34m\u001b[0m\u001b[0m\n",
      "\u001b[0;31mImportError\u001b[0m: No module named xgboost"
     ]
    }
   ],
   "source": [
    "import csv as csv\n",
    "import numpy as np\n",
    "import pandas as pd\n",
    "import sys\n",
    "import math\n",
    "from sklearn import ensemble\n",
    "from sklearn import linear_model\n",
    "import sklearn.preprocessing \n",
    "import sklearn.cross_validation\n",
    "import xgboost as xgb\n",
    "import matplotlib\n",
    "from sklearn.metrics import mean_squared_error\n",
    "%config InlineBackend.figure_format = 'png' #set 'png' here when working on notebook\n",
    "%matplotlib inline\n",
    "\n",
    "from sklearn.ensemble import GradientBoostingClassifier, GradientBoostingRegressor, RandomForestClassifier"
   ]
  },
  {
   "cell_type": "code",
   "execution_count": 2,
   "metadata": {
    "collapsed": true
   },
   "outputs": [],
   "source": [
    "train = pd.read_csv('train.csv')\n",
    "test = pd.read_csv('test.csv')"
   ]
  },
  {
   "cell_type": "code",
   "execution_count": 383,
   "metadata": {
    "collapsed": false
   },
   "outputs": [],
   "source": [
    "# testing data\n",
    "# Split test / train data \n",
    "X_train, X_test, y_train, y_test = sklearn.cross_validation.train_test_split(\n",
    "    train[train.columns[:-3]],\n",
    "    train[train.columns[-3:]],\n",
    "    test_size=0.3)"
   ]
  },
  {
   "cell_type": "code",
   "execution_count": 3,
   "metadata": {
    "collapsed": false
   },
   "outputs": [
    {
     "name": "stdout",
     "output_type": "stream",
     "text": [
      "6493\n"
     ]
    }
   ],
   "source": [
    "# write solution \n",
    "train = pd.read_csv('train.csv')\n",
    "test = pd.read_csv('test.csv')\n",
    "\n",
    "# prediction \n",
    "def get_prediction(features, labels, evaluate_features):\n",
    "    model = GradientBoostingRegressor(\n",
    "        n_estimators=200, \n",
    "        learning_rate=0.5, \n",
    "        max_depth=3, \n",
    "        random_state=0,\n",
    "        loss='ls',\n",
    "    )\n",
    "    model.fit(features, labels)\n",
    "    return model.predict(evaluate_features)\n",
    "\n",
    "# datetime features\n",
    "def transform_datetime(feature_data):\n",
    "    if 'datetime' in feature_data.columns:\n",
    "        feature_data.datetime = pd.to_datetime(feature_data.datetime)\n",
    "        feature_data['hour'] = feature_data.datetime.dt.hour\n",
    "        #feature_data['day'] = feature_data.datetime.dt.day\n",
    "        feature_data['dayofweek'] = feature_data.datetime.dt.dayofweek\n",
    "        feature_data.drop('datetime', axis=1, inplace=True)\n",
    "    return feature_data\n",
    "\n",
    "def transform_categorical_features(feature_data, feature_names):\n",
    "    for feature_name in feature_names:\n",
    "        binary_features = pd.get_dummies(\n",
    "            feature_data[feature_name], \n",
    "            prefix=feature_name,\n",
    "        )\n",
    "        feature_data.drop([feature_name], axis=1, inplace=True)\n",
    "        feature_data[binary_features.columns] = binary_features\n",
    "    return feature_data \n",
    "\n",
    "# specific \n",
    "def transform_features(feature_data):\n",
    "    return transform_categorical_features(\n",
    "        transform_datetime(feature_data.copy()),\n",
    "        ['dayofweek', 'season', 'weather', 'hour'],\n",
    "    )\n",
    "    \n",
    "X_train_data = transform_features(train[train.columns[:-3]])\n",
    "X_test_data = transform_features(transform_datetime(test.copy()))\n",
    "y_train = train[train.columns[-3:]]\n",
    "\n",
    "casual_labels = np.log(y_train.casual + 1)\n",
    "registered_labels = np.log(y_train.registered + 1)\n",
    "\n",
    "casual_pred = get_prediction(X_train_data, casual_labels, X_test_data)\n",
    "registered_pred = get_prediction(X_train_data, registered_labels, X_test_data)\n",
    "\n",
    "count_pred = [math.exp(max(0, x)) - 1 + math.exp(max(0, y)) - 1 \n",
    "              for x, y in zip(casual_pred, registered_pred)]\n",
    "print len(count_pred) "
   ]
  },
  {
   "cell_type": "code",
   "execution_count": 438,
   "metadata": {
    "collapsed": false
   },
   "outputs": [],
   "source": [
    "solution = pd.DataFrame({'datetime': test.datetime, 'count': count_pred})\n",
    "solution.to_csv('prediction_linear_model', index = False, columns=['datetime','count'])"
   ]
  },
  {
   "cell_type": "code",
   "execution_count": 318,
   "metadata": {
    "collapsed": false
   },
   "outputs": [
    {
     "data": {
      "text/html": [
       "<div>\n",
       "<table border=\"1\" class=\"dataframe\">\n",
       "  <thead>\n",
       "    <tr style=\"text-align: right;\">\n",
       "      <th></th>\n",
       "      <th>datetime</th>\n",
       "      <th>season</th>\n",
       "      <th>holiday</th>\n",
       "      <th>workingday</th>\n",
       "      <th>weather</th>\n",
       "      <th>temp</th>\n",
       "      <th>atemp</th>\n",
       "      <th>humidity</th>\n",
       "      <th>windspeed</th>\n",
       "      <th>casual</th>\n",
       "      <th>registered</th>\n",
       "      <th>count</th>\n",
       "    </tr>\n",
       "  </thead>\n",
       "  <tbody>\n",
       "    <tr>\n",
       "      <th>0</th>\n",
       "      <td>2011-01-01 00:00:00</td>\n",
       "      <td>1</td>\n",
       "      <td>0</td>\n",
       "      <td>0</td>\n",
       "      <td>1</td>\n",
       "      <td>9.84</td>\n",
       "      <td>14.395</td>\n",
       "      <td>81</td>\n",
       "      <td>0.0</td>\n",
       "      <td>3</td>\n",
       "      <td>13</td>\n",
       "      <td>16</td>\n",
       "    </tr>\n",
       "  </tbody>\n",
       "</table>\n",
       "</div>"
      ],
      "text/plain": [
       "              datetime  season  holiday  workingday  weather  temp   atemp  \\\n",
       "0  2011-01-01 00:00:00       1        0           0        1  9.84  14.395   \n",
       "\n",
       "   humidity  windspeed  casual  registered  count  \n",
       "0        81        0.0       3          13     16  "
      ]
     },
     "execution_count": 318,
     "metadata": {},
     "output_type": "execute_result"
    }
   ],
   "source": [
    "train.head(1)"
   ]
  },
  {
   "cell_type": "code",
   "execution_count": 26,
   "metadata": {
    "collapsed": false
   },
   "outputs": [
    {
     "data": {
      "text/html": [
       "<div>\n",
       "<table border=\"1\" class=\"dataframe\">\n",
       "  <thead>\n",
       "    <tr style=\"text-align: right;\">\n",
       "      <th></th>\n",
       "      <th>casual</th>\n",
       "      <th>registered</th>\n",
       "      <th>count</th>\n",
       "    </tr>\n",
       "  </thead>\n",
       "  <tbody>\n",
       "    <tr>\n",
       "      <th>3463</th>\n",
       "      <td>1</td>\n",
       "      <td>9</td>\n",
       "      <td>10</td>\n",
       "    </tr>\n",
       "  </tbody>\n",
       "</table>\n",
       "</div>"
      ],
      "text/plain": [
       "      casual  registered  count\n",
       "3463       1           9     10"
      ]
     },
     "execution_count": 26,
     "metadata": {},
     "output_type": "execute_result"
    }
   ],
   "source": [
    "y_test.head(1)"
   ]
  },
  {
   "cell_type": "code",
   "execution_count": 5,
   "metadata": {
    "collapsed": false
   },
   "outputs": [
    {
     "name": "stdout",
     "output_type": "stream",
     "text": [
      "<class 'pandas.core.frame.DataFrame'>\n",
      "RangeIndex: 10886 entries, 0 to 10885\n",
      "Data columns (total 12 columns):\n",
      "datetime      10886 non-null object\n",
      "season        10886 non-null int64\n",
      "holiday       10886 non-null int64\n",
      "workingday    10886 non-null int64\n",
      "weather       10886 non-null int64\n",
      "temp          10886 non-null float64\n",
      "atemp         10886 non-null float64\n",
      "humidity      10886 non-null int64\n",
      "windspeed     10886 non-null float64\n",
      "casual        10886 non-null int64\n",
      "registered    10886 non-null int64\n",
      "count         10886 non-null int64\n",
      "dtypes: float64(3), int64(8), object(1)\n",
      "memory usage: 1020.6+ KB\n",
      "None\n"
     ]
    }
   ],
   "source": [
    "print train.info()"
   ]
  },
  {
   "cell_type": "code",
   "execution_count": null,
   "metadata": {
    "collapsed": false
   },
   "outputs": [],
   "source": []
  },
  {
   "cell_type": "code",
   "execution_count": 46,
   "metadata": {
    "collapsed": false
   },
   "outputs": [
    {
     "name": "stdout",
     "output_type": "stream",
     "text": [
      "['casual', 'registered', 'count']\n",
      "['datetime', 'season', 'holiday', 'workingday', 'weather', 'temp', 'atemp', 'humidity', 'windspeed']\n"
     ]
    }
   ],
   "source": [
    "# features \n",
    "# datetime: bucket 0 -> 23\n",
    "# season: bucket 1 -> 4\n",
    "# holiday: binary 0, 1\n",
    "# working day: work day: monday -> thursday \n",
    "# weather: 1 -> 4\n",
    "# tmp: real number\n",
    "# output -> causual and register \n",
    "targets = train.columns.tolist()[-3:]\n",
    "feats = train.columns.tolist()[:-3]\n",
    "print targets\n",
    "print feats"
   ]
  },
  {
   "cell_type": "code",
   "execution_count": 105,
   "metadata": {
    "collapsed": false
   },
   "outputs": [],
   "source": [
    "# feature transform\n",
    "feature_data = X_train.copy()"
   ]
  },
  {
   "cell_type": "code",
   "execution_count": 404,
   "metadata": {
    "collapsed": false
   },
   "outputs": [
    {
     "name": "stdout",
     "output_type": "stream",
     "text": [
      "45\n",
      "45\n",
      "Index([u'holiday', u'workingday', u'temp', u'atemp', u'humidity', u'windspeed',\n",
      "       u'dayofweek_0', u'dayofweek_1', u'dayofweek_2', u'dayofweek_3',\n",
      "       u'dayofweek_4', u'dayofweek_5', u'dayofweek_6', u'season_1',\n",
      "       u'season_2', u'season_3', u'season_4', u'weather_1', u'weather_2',\n",
      "       u'weather_3', u'weather_4', u'hour_0', u'hour_1', u'hour_2', u'hour_3',\n",
      "       u'hour_4', u'hour_5', u'hour_6', u'hour_7', u'hour_8', u'hour_9',\n",
      "       u'hour_10', u'hour_11', u'hour_12', u'hour_13', u'hour_14', u'hour_15',\n",
      "       u'hour_16', u'hour_17', u'hour_18', u'hour_19', u'hour_20', u'hour_21',\n",
      "       u'hour_22', u'hour_23'],\n",
      "      dtype='object')\n"
     ]
    }
   ],
   "source": [
    "feature_data = transform_features(train[train.columns[:-3]])\n",
    "labels = train[train.columns[-3:]]\n",
    "# testing data\n",
    "# Split test / train data \n",
    "train_data, test_data, train_labels, test_labels = sklearn.cross_validation.train_test_split(\n",
    "    feature_data,\n",
    "    labels,\n",
    "    test_size=0.2)\n",
    "\n",
    "print len(train_data.columns)\n",
    "print len(test_data.columns)\n",
    "print train_data.columns"
   ]
  },
  {
   "cell_type": "code",
   "execution_count": 386,
   "metadata": {
    "collapsed": false
   },
   "outputs": [
    {
     "name": "stdout",
     "output_type": "stream",
     "text": [
      "weather_4\n"
     ]
    }
   ],
   "source": [
    "for ft in X_train_data.columns:\n",
    "    if ft not in X_test_data.columns:\n",
    "        print ft "
   ]
  },
  {
   "cell_type": "code",
   "execution_count": 378,
   "metadata": {
    "collapsed": false
   },
   "outputs": [
    {
     "data": {
      "image/png": "[encoded data removed]",
      "text/plain": [
       "<matplotlib.figure.Figure at 0x11c3eae10>"
      ]
     },
     "metadata": {},
     "output_type": "display_data"
    }
   ],
   "source": [
    "# Visualize\n",
    "matplotlib.rcParams['figure.figsize'] = (8, 8)\n",
    "X_train_data.hist(bins=40);"
   ]
  },
  {
   "cell_type": "code",
   "execution_count": null,
   "metadata": {
    "collapsed": false
   },
   "outputs": [],
   "source": []
  },
  {
   "cell_type": "code",
   "execution_count": 394,
   "metadata": {
    "collapsed": false,
    "scrolled": true
   },
   "outputs": [
    {
     "name": "stdout",
     "output_type": "stream",
     "text": [
      "      Iter       Train Loss   Remaining Time \n",
      "         1           1.5002            1.92s\n",
      "         2           1.1891            1.97s\n",
      "         3           0.9645            1.92s\n",
      "         4           0.8180            1.78s\n",
      "         5           0.7224            1.62s\n",
      "         6           0.6416            1.63s\n",
      "         7           0.5964            1.59s\n",
      "         8           0.5664            1.52s\n",
      "         9           0.5325            1.45s\n",
      "        10           0.5044            1.41s\n",
      "        20           0.3769            1.19s\n",
      "        30           0.3268            1.13s\n",
      "        40           0.2974            1.05s\n",
      "        50           0.2816            0.98s\n",
      "        60           0.2698            0.92s\n",
      "        70           0.2600            0.86s\n",
      "        80           0.2525            0.79s\n",
      "        90           0.2441            0.73s\n",
      "       100           0.2377            0.67s\n",
      "       200           0.2009            0.00s\n",
      "score =  0.871487648731\n"
     ]
    }
   ],
   "source": [
    "# training model \n",
    "casual = GradientBoostingRegressor(\n",
    "    n_estimators=200, \n",
    "    learning_rate=0.5, \n",
    "    max_depth=3, \n",
    "    random_state=0,\n",
    "    verbose=1,\n",
    "    loss='ls',\n",
    ")\n",
    "casual_labels = np.log(train_labels.casual + 1)\n",
    "casual.fit(train_data, casual_labels)\n",
    "test_casual_labels = np.log(test_labels.casual + 1)\n",
    "print 'score = ', casual.score(test_data, test_casual_labels)  "
   ]
  },
  {
   "cell_type": "code",
   "execution_count": 5,
   "metadata": {
    "collapsed": false
   },
   "outputs": [
    {
     "ename": "NameError",
     "evalue": "global name 'xgboost' is not defined",
     "output_type": "error",
     "traceback": [
      "\u001b[0;31m---------------------------------------------------------------------------\u001b[0m",
      "\u001b[0;31mNameError\u001b[0m                                 Traceback (most recent call last)",
      "\u001b[0;32m<ipython-input-5-425efb620a73>\u001b[0m in \u001b[0;36m<module>\u001b[0;34m()\u001b[0m\n\u001b[1;32m     18\u001b[0m \u001b[0my_test_data\u001b[0m \u001b[0;34m=\u001b[0m \u001b[0mnp\u001b[0m\u001b[0;34m.\u001b[0m\u001b[0mlog\u001b[0m\u001b[0;34m(\u001b[0m\u001b[0my_test\u001b[0m\u001b[0;34m.\u001b[0m\u001b[0mcasual\u001b[0m \u001b[0;34m+\u001b[0m \u001b[0;36m1\u001b[0m\u001b[0;34m)\u001b[0m\u001b[0;34m\u001b[0m\u001b[0m\n\u001b[1;32m     19\u001b[0m \u001b[0;34m\u001b[0m\u001b[0m\n\u001b[0;32m---> 20\u001b[0;31m \u001b[0mpredicts\u001b[0m \u001b[0;34m=\u001b[0m \u001b[0mget_prediction\u001b[0m\u001b[0;34m(\u001b[0m\u001b[0mX_train\u001b[0m\u001b[0;34m,\u001b[0m \u001b[0my_train_data\u001b[0m\u001b[0;34m,\u001b[0m \u001b[0mX_test\u001b[0m\u001b[0;34m)\u001b[0m\u001b[0;34m\u001b[0m\u001b[0m\n\u001b[0m\u001b[1;32m     21\u001b[0m \u001b[0;34m\u001b[0m\u001b[0m\n\u001b[1;32m     22\u001b[0m \u001b[0;32mdef\u001b[0m \u001b[0mlabel_transform\u001b[0m\u001b[0;34m(\u001b[0m\u001b[0mk\u001b[0m\u001b[0;34m)\u001b[0m\u001b[0;34m:\u001b[0m\u001b[0;34m\u001b[0m\u001b[0m\n",
      "\u001b[0;32m<ipython-input-5-425efb620a73>\u001b[0m in \u001b[0;36mget_prediction\u001b[0;34m(features, labels, evaluate_features)\u001b[0m\n\u001b[1;32m      1\u001b[0m \u001b[0;31m# prediction\u001b[0m\u001b[0;34m\u001b[0m\u001b[0;34m\u001b[0m\u001b[0m\n\u001b[1;32m      2\u001b[0m \u001b[0;32mdef\u001b[0m \u001b[0mget_prediction\u001b[0m\u001b[0;34m(\u001b[0m\u001b[0mfeatures\u001b[0m\u001b[0;34m,\u001b[0m \u001b[0mlabels\u001b[0m\u001b[0;34m,\u001b[0m \u001b[0mevaluate_features\u001b[0m\u001b[0;34m)\u001b[0m\u001b[0;34m:\u001b[0m\u001b[0;34m\u001b[0m\u001b[0m\n\u001b[0;32m----> 3\u001b[0;31m     \u001b[0mmodel\u001b[0m \u001b[0;34m=\u001b[0m \u001b[0mxgboost\u001b[0m\u001b[0;34m.\u001b[0m\u001b[0mXGBClassifier\u001b[0m\u001b[0;34m(\u001b[0m\u001b[0;34m)\u001b[0m\u001b[0;34m\u001b[0m\u001b[0m\n\u001b[0m\u001b[1;32m      4\u001b[0m     \u001b[0mmodel\u001b[0m\u001b[0;34m.\u001b[0m\u001b[0mfit\u001b[0m\u001b[0;34m(\u001b[0m\u001b[0mfeatures\u001b[0m\u001b[0;34m,\u001b[0m \u001b[0mlabels\u001b[0m\u001b[0;34m)\u001b[0m\u001b[0;34m\u001b[0m\u001b[0m\n\u001b[1;32m      5\u001b[0m     \u001b[0;32mreturn\u001b[0m \u001b[0mmodel\u001b[0m\u001b[0;34m.\u001b[0m\u001b[0mpredict\u001b[0m\u001b[0;34m(\u001b[0m\u001b[0mevaluate_features\u001b[0m\u001b[0;34m)\u001b[0m\u001b[0;34m\u001b[0m\u001b[0m\n",
      "\u001b[0;31mNameError\u001b[0m: global name 'xgboost' is not defined"
     ]
    }
   ],
   "source": [
    "# prediction \n",
    "def get_prediction(features, labels, evaluate_features):\n",
    "    model = xgboost.XGBClassifier()\n",
    "    model.fit(features, labels)\n",
    "    return model.predict(evaluate_features)\n",
    "\n",
    "# testing data\n",
    "# Split test / train data \n",
    "feature_data = transform_features(train[train.columns[:-3]])\n",
    "labels = train[train.columns[-3:]]\n",
    "X_train, X_test, y_train, y_test = sklearn.cross_validation.train_test_split(\n",
    "    feature_data,\n",
    "    labels,\n",
    "    test_size=0.2,\n",
    ")\n",
    "\n",
    "y_train_data = np.log(y_train.casual + 1)\n",
    "y_test_data = np.log(y_test.casual + 1) \n",
    "\n",
    "predicts = get_prediction(X_train, y_train_data, X_test) \n",
    "\n",
    "def label_transform(k):\n",
    "    return lambda x: np.log(x + k)\n",
    "\n",
    "def label_transform_reverse(x):\n",
    "    return lambda x: max(exp.log(x) - k, 0)\n",
    "\n",
    "def evaluate_model(\n",
    "    train, \n",
    "    model=get_prediction,\n",
    "):\n",
    "    # transform features, labels \n",
    "    feature_data = transform_features(train[train.columns[:-3]])\n",
    "    labels = train[train.columns[-3:]]\n",
    "    # testing data\n",
    "    # Split test / train data \n",
    "    train_data, test_data, train_labels, test_labels = sklearn.cross_validation.train_test_split(\n",
    "        feature_data,\n",
    "        labels,\n",
    "        test_size=0.5,\n",
    "    )\n",
    "    \n",
    "    k = 1\n",
    "    casual_labels = np.log(train_labels.casual + k)\n",
    "    registered_labels = np.log(train_labels.registered + k)\n",
    "\n",
    "    casual_pred = get_prediction(train_data, casual_labels, test_data)\n",
    "    registered_pred = get_prediction(train_data, registered_labels, test_data)\n",
    "    \n",
    "    count_labels = test_labels['count']\n",
    "    count_pred = [max(np.exp(x) - k, 0) + max(np.exp(y) - k, 0)\n",
    "                  for x, y in zip(casual_pred, registered_pred)]\n",
    "    error = mean_squared_error(\n",
    "        np.log(np.array(count_labels) + 1), \n",
    "        np.log(np.array(count_pred) + 1))\n",
    "    return math.sqrt(error), count_labels, count_pred\n",
    "\n",
    "error, labels, pred = evaluate_model(train)\n",
    "print error"
   ]
  },
  {
   "cell_type": "code",
   "execution_count": 431,
   "metadata": {
    "collapsed": false
   },
   "outputs": [
    {
     "name": "stdout",
     "output_type": "stream",
     "text": [
      "93 88.5308837891\n",
      "42 209.213623047\n",
      "749 483.161621094\n",
      "9 290.138671875\n",
      "9 0\n",
      "60 54.5450439453\n",
      "224 309.493164062\n",
      "561 436.340576172\n",
      "596 222.448730469\n",
      "129 142.507568359\n",
      "460 514.716796875\n",
      "3 0\n",
      "21 48.2501220703\n",
      "188 329.318847656\n",
      "72 84.8426513672\n",
      "15 42.4190673828\n",
      "7 69.4821777344\n",
      "2 0\n",
      "408 440.982421875\n",
      "292 248.618164062\n",
      "206 206.198120117\n",
      "154 202.486328125\n",
      "234 211.323852539\n",
      "74 77.2529296875\n",
      "157 233.26953125\n",
      "382 422.049316406\n",
      "19 82.8253173828\n",
      "58 63.7430419922\n",
      "107 190.805541992\n",
      "425 204.582763672\n",
      "12 74.841796875\n",
      "280 345.988037109\n",
      "3 40.7630615234\n",
      "369 320.277709961\n",
      "181 146.319091797\n",
      "511 261.573852539\n",
      "489 332.854858398\n",
      "146 316.439331055\n",
      "302 205.038085938\n",
      "170 252.240722656\n",
      "58 132.162231445\n",
      "381 422.894775391\n",
      "45 72.6820068359\n",
      "367 277.16027832\n",
      "38 120.112548828\n",
      "87 12.1169433594\n",
      "161 288.667602539\n",
      "189 226.042602539\n",
      "132 136.722412109\n",
      "9 30.6104736328\n",
      "185 77.4017333984\n",
      "24 21.5623779297\n",
      "336 348.363647461\n",
      "286 251.813476562\n",
      "5 62.5484619141\n",
      "92 131.191040039\n",
      "53 305.106201172\n",
      "101 362.604736328\n",
      "3 0\n",
      "290 209.808105469\n",
      "408 326.814697266\n",
      "66 82.1331787109\n",
      "260 210.017822266\n",
      "103 166.668701172\n",
      "53 307.376220703\n",
      "188 234.950561523\n",
      "268 236.354248047\n",
      "159 124.817626953\n",
      "668 311.986694336\n",
      "678 300.95715332\n",
      "313 234.043579102\n",
      "430 407.268798828\n",
      "222 267.777099609\n",
      "151 68.0275878906\n",
      "9 45.1995849609\n",
      "857 528.541259766\n",
      "57 315.751220703\n",
      "479 485.421386719\n",
      "46 35.3590087891\n",
      "3 7.40002441406\n",
      "30 99.3239746094\n",
      "226 158.780029297\n",
      "446 355.564086914\n",
      "45 100.142089844\n",
      "28 75.8614501953\n",
      "287 170.853515625\n",
      "70 149.399047852\n",
      "3 0\n",
      "42 64.5081787109\n",
      "233 440.261230469\n",
      "73 69.3149414062\n",
      "30 79.1795654297\n",
      "362 234.186035156\n",
      "563 446.472167969\n",
      "133 139.723999023\n",
      "211 192.166748047\n",
      "45 167.904418945\n",
      "28 46.2272949219\n",
      "318 429.08203125\n",
      "19 100.471191406\n",
      "693 390.740966797\n"
     ]
    }
   ],
   "source": [
    "i = 0\n",
    "for x, y in zip(labels, pred):\n",
    "    i += 1\n",
    "    print x, y\n",
    "    if i > 100: break "
   ]
  },
  {
   "cell_type": "code",
   "execution_count": 285,
   "metadata": {
    "collapsed": false
   },
   "outputs": [
    {
     "name": "stdout",
     "output_type": "stream",
     "text": [
      "41 39\n",
      "4 6\n",
      "135 153\n",
      "6 9\n",
      "65 52\n",
      "146 191\n",
      "22 29\n",
      "221 172\n",
      "185 242\n",
      "0 1\n",
      "5 14\n",
      "6 5\n",
      "7 3\n",
      "2 1\n",
      "22 33\n",
      "160 205\n",
      "29 27\n",
      "52 63\n",
      "0 0\n",
      "36 21\n",
      "45 32\n",
      "58 54\n",
      "47 24\n",
      "7 4\n",
      "47 57\n",
      "8 14\n",
      "22 27\n",
      "1 1\n",
      "2 7\n",
      "0 0\n"
     ]
    }
   ],
   "source": [
    "s = np.exp(casual.predict(X_test_data)) - 1 \n",
    "for i in range(30):\n",
    "    print y_test.casual.tolist()[i], int(s[i])"
   ]
  },
  {
   "cell_type": "code",
   "execution_count": null,
   "metadata": {
    "collapsed": false
   },
   "outputs": [],
   "source": []
  },
  {
   "cell_type": "code",
   "execution_count": null,
   "metadata": {
    "collapsed": true
   },
   "outputs": [],
   "source": []
  }
 ],
 "metadata": {
  "anaconda-cloud": {},
  "kernelspec": {
   "display_name": "Python [Root]",
   "language": "python",
   "name": "Python [Root]"
  },
  "language_info": {
   "codemirror_mode": {
    "name": "ipython",
    "version": 2
   },
   "file_extension": ".py",
   "mimetype": "text/x-python",
   "name": "python",
   "nbconvert_exporter": "python",
   "pygments_lexer": "ipython2",
   "version": "2.7.12"
  }
 },
 "nbformat": 4,
 "nbformat_minor": 0
}
